{
 "cells": [
  {
   "cell_type": "markdown",
   "metadata": {},
   "source": [
    "# <span style='color: Green'> UBER DATA ANALYSIS TO PREDICT THE PRICE </span>"
   ]
  },
  {
   "cell_type": "markdown",
   "metadata": {},
   "source": [
    "![title](cabFare.jpg)"
   ]
  },
  {
   "cell_type": "markdown",
   "metadata": {},
   "source": [
    "## Import Libraries "
   ]
  },
  {
   "cell_type": "code",
   "execution_count": 1,
   "metadata": {},
   "outputs": [],
   "source": [
    "import pandas as pd\n",
    "from sklearn.linear_model import LogisticRegression,LinearRegression\n",
    "import pandas as pd\n",
    "import numpy as np\n",
    "import matplotlib.pyplot as plt\n",
    "import seaborn as sns\n",
    "import itertools\n",
    "import gc\n",
    "import os\n",
    "import sys\n",
    "%matplotlib inline\n",
    "\n",
    "import warnings\n",
    "warnings.filterwarnings(\"ignore\")"
   ]
  },
  {
   "cell_type": "markdown",
   "metadata": {},
   "source": [
    "## Reading csv files"
   ]
  },
  {
   "cell_type": "code",
   "execution_count": 2,
   "metadata": {},
   "outputs": [],
   "source": [
    "data=pd.read_csv(\"weather.csv\")"
   ]
  },
  {
   "cell_type": "code",
   "execution_count": 3,
   "metadata": {},
   "outputs": [],
   "source": [
    "data=pd.read_csv(\"cab_rides.csv\")"
   ]
  },
  {
   "cell_type": "code",
   "execution_count": 4,
   "metadata": {},
   "outputs": [],
   "source": [
    "cab_data = pd.read_csv(\"cab_rides.csv\")\n",
    "weather_data = pd.read_csv(\"weather.csv\")"
   ]
  },
  {
   "cell_type": "markdown",
   "metadata": {},
   "source": [
    "## Data Preparation"
   ]
  },
  {
   "cell_type": "code",
   "execution_count": 5,
   "metadata": {},
   "outputs": [
    {
     "data": {
      "text/html": [
       "<div>\n",
       "<style scoped>\n",
       "    .dataframe tbody tr th:only-of-type {\n",
       "        vertical-align: middle;\n",
       "    }\n",
       "\n",
       "    .dataframe tbody tr th {\n",
       "        vertical-align: top;\n",
       "    }\n",
       "\n",
       "    .dataframe thead th {\n",
       "        text-align: right;\n",
       "    }\n",
       "</style>\n",
       "<table border=\"1\" class=\"dataframe\">\n",
       "  <thead>\n",
       "    <tr style=\"text-align: right;\">\n",
       "      <th></th>\n",
       "      <th>distance</th>\n",
       "      <th>cab_type</th>\n",
       "      <th>time_stamp</th>\n",
       "      <th>destination</th>\n",
       "      <th>source</th>\n",
       "      <th>price</th>\n",
       "      <th>surge_multiplier</th>\n",
       "      <th>id</th>\n",
       "      <th>product_id</th>\n",
       "      <th>name</th>\n",
       "    </tr>\n",
       "  </thead>\n",
       "  <tbody>\n",
       "    <tr>\n",
       "      <th>0</th>\n",
       "      <td>0.44</td>\n",
       "      <td>Lyft</td>\n",
       "      <td>1544952607890</td>\n",
       "      <td>North Station</td>\n",
       "      <td>Haymarket Square</td>\n",
       "      <td>5.0</td>\n",
       "      <td>1.0</td>\n",
       "      <td>424553bb-7174-41ea-aeb4-fe06d4f4b9d7</td>\n",
       "      <td>lyft_line</td>\n",
       "      <td>Shared</td>\n",
       "    </tr>\n",
       "    <tr>\n",
       "      <th>1</th>\n",
       "      <td>0.44</td>\n",
       "      <td>Lyft</td>\n",
       "      <td>1543284023677</td>\n",
       "      <td>North Station</td>\n",
       "      <td>Haymarket Square</td>\n",
       "      <td>11.0</td>\n",
       "      <td>1.0</td>\n",
       "      <td>4bd23055-6827-41c6-b23b-3c491f24e74d</td>\n",
       "      <td>lyft_premier</td>\n",
       "      <td>Lux</td>\n",
       "    </tr>\n",
       "    <tr>\n",
       "      <th>2</th>\n",
       "      <td>0.44</td>\n",
       "      <td>Lyft</td>\n",
       "      <td>1543366822198</td>\n",
       "      <td>North Station</td>\n",
       "      <td>Haymarket Square</td>\n",
       "      <td>7.0</td>\n",
       "      <td>1.0</td>\n",
       "      <td>981a3613-77af-4620-a42a-0c0866077d1e</td>\n",
       "      <td>lyft</td>\n",
       "      <td>Lyft</td>\n",
       "    </tr>\n",
       "    <tr>\n",
       "      <th>3</th>\n",
       "      <td>0.44</td>\n",
       "      <td>Lyft</td>\n",
       "      <td>1543553582749</td>\n",
       "      <td>North Station</td>\n",
       "      <td>Haymarket Square</td>\n",
       "      <td>26.0</td>\n",
       "      <td>1.0</td>\n",
       "      <td>c2d88af2-d278-4bfd-a8d0-29ca77cc5512</td>\n",
       "      <td>lyft_luxsuv</td>\n",
       "      <td>Lux Black XL</td>\n",
       "    </tr>\n",
       "    <tr>\n",
       "      <th>4</th>\n",
       "      <td>0.44</td>\n",
       "      <td>Lyft</td>\n",
       "      <td>1543463360223</td>\n",
       "      <td>North Station</td>\n",
       "      <td>Haymarket Square</td>\n",
       "      <td>9.0</td>\n",
       "      <td>1.0</td>\n",
       "      <td>e0126e1f-8ca9-4f2e-82b3-50505a09db9a</td>\n",
       "      <td>lyft_plus</td>\n",
       "      <td>Lyft XL</td>\n",
       "    </tr>\n",
       "    <tr>\n",
       "      <th>...</th>\n",
       "      <td>...</td>\n",
       "      <td>...</td>\n",
       "      <td>...</td>\n",
       "      <td>...</td>\n",
       "      <td>...</td>\n",
       "      <td>...</td>\n",
       "      <td>...</td>\n",
       "      <td>...</td>\n",
       "      <td>...</td>\n",
       "      <td>...</td>\n",
       "    </tr>\n",
       "    <tr>\n",
       "      <th>693066</th>\n",
       "      <td>1.00</td>\n",
       "      <td>Uber</td>\n",
       "      <td>1543708385534</td>\n",
       "      <td>North End</td>\n",
       "      <td>West End</td>\n",
       "      <td>13.0</td>\n",
       "      <td>1.0</td>\n",
       "      <td>616d3611-1820-450a-9845-a9ff304a4842</td>\n",
       "      <td>6f72dfc5-27f1-42e8-84db-ccc7a75f6969</td>\n",
       "      <td>UberXL</td>\n",
       "    </tr>\n",
       "    <tr>\n",
       "      <th>693067</th>\n",
       "      <td>1.00</td>\n",
       "      <td>Uber</td>\n",
       "      <td>1543708385534</td>\n",
       "      <td>North End</td>\n",
       "      <td>West End</td>\n",
       "      <td>9.5</td>\n",
       "      <td>1.0</td>\n",
       "      <td>633a3fc3-1f86-4b9e-9d48-2b7132112341</td>\n",
       "      <td>55c66225-fbe7-4fd5-9072-eab1ece5e23e</td>\n",
       "      <td>UberX</td>\n",
       "    </tr>\n",
       "    <tr>\n",
       "      <th>693068</th>\n",
       "      <td>1.00</td>\n",
       "      <td>Uber</td>\n",
       "      <td>1543708385534</td>\n",
       "      <td>North End</td>\n",
       "      <td>West End</td>\n",
       "      <td>NaN</td>\n",
       "      <td>1.0</td>\n",
       "      <td>64d451d0-639f-47a4-9b7c-6fd92fbd264f</td>\n",
       "      <td>8cf7e821-f0d3-49c6-8eba-e679c0ebcf6a</td>\n",
       "      <td>Taxi</td>\n",
       "    </tr>\n",
       "    <tr>\n",
       "      <th>693069</th>\n",
       "      <td>1.00</td>\n",
       "      <td>Uber</td>\n",
       "      <td>1543708385534</td>\n",
       "      <td>North End</td>\n",
       "      <td>West End</td>\n",
       "      <td>27.0</td>\n",
       "      <td>1.0</td>\n",
       "      <td>727e5f07-a96b-4ad1-a2c7-9abc3ad55b4e</td>\n",
       "      <td>6d318bcc-22a3-4af6-bddd-b409bfce1546</td>\n",
       "      <td>Black SUV</td>\n",
       "    </tr>\n",
       "    <tr>\n",
       "      <th>693070</th>\n",
       "      <td>1.00</td>\n",
       "      <td>Uber</td>\n",
       "      <td>1543708385534</td>\n",
       "      <td>North End</td>\n",
       "      <td>West End</td>\n",
       "      <td>10.0</td>\n",
       "      <td>1.0</td>\n",
       "      <td>e7fdc087-fe86-40a5-a3c3-3b2a8badcbda</td>\n",
       "      <td>997acbb5-e102-41e1-b155-9df7de0a73f2</td>\n",
       "      <td>UberPool</td>\n",
       "    </tr>\n",
       "  </tbody>\n",
       "</table>\n",
       "<p>693071 rows × 10 columns</p>\n",
       "</div>"
      ],
      "text/plain": [
       "        distance cab_type     time_stamp    destination            source  \\\n",
       "0           0.44     Lyft  1544952607890  North Station  Haymarket Square   \n",
       "1           0.44     Lyft  1543284023677  North Station  Haymarket Square   \n",
       "2           0.44     Lyft  1543366822198  North Station  Haymarket Square   \n",
       "3           0.44     Lyft  1543553582749  North Station  Haymarket Square   \n",
       "4           0.44     Lyft  1543463360223  North Station  Haymarket Square   \n",
       "...          ...      ...            ...            ...               ...   \n",
       "693066      1.00     Uber  1543708385534      North End          West End   \n",
       "693067      1.00     Uber  1543708385534      North End          West End   \n",
       "693068      1.00     Uber  1543708385534      North End          West End   \n",
       "693069      1.00     Uber  1543708385534      North End          West End   \n",
       "693070      1.00     Uber  1543708385534      North End          West End   \n",
       "\n",
       "        price  surge_multiplier                                    id  \\\n",
       "0         5.0               1.0  424553bb-7174-41ea-aeb4-fe06d4f4b9d7   \n",
       "1        11.0               1.0  4bd23055-6827-41c6-b23b-3c491f24e74d   \n",
       "2         7.0               1.0  981a3613-77af-4620-a42a-0c0866077d1e   \n",
       "3        26.0               1.0  c2d88af2-d278-4bfd-a8d0-29ca77cc5512   \n",
       "4         9.0               1.0  e0126e1f-8ca9-4f2e-82b3-50505a09db9a   \n",
       "...       ...               ...                                   ...   \n",
       "693066   13.0               1.0  616d3611-1820-450a-9845-a9ff304a4842   \n",
       "693067    9.5               1.0  633a3fc3-1f86-4b9e-9d48-2b7132112341   \n",
       "693068    NaN               1.0  64d451d0-639f-47a4-9b7c-6fd92fbd264f   \n",
       "693069   27.0               1.0  727e5f07-a96b-4ad1-a2c7-9abc3ad55b4e   \n",
       "693070   10.0               1.0  e7fdc087-fe86-40a5-a3c3-3b2a8badcbda   \n",
       "\n",
       "                                  product_id          name  \n",
       "0                                  lyft_line        Shared  \n",
       "1                               lyft_premier           Lux  \n",
       "2                                       lyft          Lyft  \n",
       "3                                lyft_luxsuv  Lux Black XL  \n",
       "4                                  lyft_plus       Lyft XL  \n",
       "...                                      ...           ...  \n",
       "693066  6f72dfc5-27f1-42e8-84db-ccc7a75f6969        UberXL  \n",
       "693067  55c66225-fbe7-4fd5-9072-eab1ece5e23e         UberX  \n",
       "693068  8cf7e821-f0d3-49c6-8eba-e679c0ebcf6a          Taxi  \n",
       "693069  6d318bcc-22a3-4af6-bddd-b409bfce1546     Black SUV  \n",
       "693070  997acbb5-e102-41e1-b155-9df7de0a73f2      UberPool  \n",
       "\n",
       "[693071 rows x 10 columns]"
      ]
     },
     "execution_count": 5,
     "metadata": {},
     "output_type": "execute_result"
    }
   ],
   "source": [
    "cab_data"
   ]
  },
  {
   "cell_type": "code",
   "execution_count": 6,
   "metadata": {},
   "outputs": [
    {
     "data": {
      "text/html": [
       "<div>\n",
       "<style scoped>\n",
       "    .dataframe tbody tr th:only-of-type {\n",
       "        vertical-align: middle;\n",
       "    }\n",
       "\n",
       "    .dataframe tbody tr th {\n",
       "        vertical-align: top;\n",
       "    }\n",
       "\n",
       "    .dataframe thead th {\n",
       "        text-align: right;\n",
       "    }\n",
       "</style>\n",
       "<table border=\"1\" class=\"dataframe\">\n",
       "  <thead>\n",
       "    <tr style=\"text-align: right;\">\n",
       "      <th></th>\n",
       "      <th>temp</th>\n",
       "      <th>location</th>\n",
       "      <th>clouds</th>\n",
       "      <th>pressure</th>\n",
       "      <th>rain</th>\n",
       "      <th>time_stamp</th>\n",
       "      <th>humidity</th>\n",
       "      <th>wind</th>\n",
       "    </tr>\n",
       "  </thead>\n",
       "  <tbody>\n",
       "    <tr>\n",
       "      <th>0</th>\n",
       "      <td>42.42</td>\n",
       "      <td>Back Bay</td>\n",
       "      <td>1.00</td>\n",
       "      <td>1012.14</td>\n",
       "      <td>0.1228</td>\n",
       "      <td>1545003901</td>\n",
       "      <td>0.77</td>\n",
       "      <td>11.25</td>\n",
       "    </tr>\n",
       "    <tr>\n",
       "      <th>1</th>\n",
       "      <td>42.43</td>\n",
       "      <td>Beacon Hill</td>\n",
       "      <td>1.00</td>\n",
       "      <td>1012.15</td>\n",
       "      <td>0.1846</td>\n",
       "      <td>1545003901</td>\n",
       "      <td>0.76</td>\n",
       "      <td>11.32</td>\n",
       "    </tr>\n",
       "    <tr>\n",
       "      <th>2</th>\n",
       "      <td>42.50</td>\n",
       "      <td>Boston University</td>\n",
       "      <td>1.00</td>\n",
       "      <td>1012.15</td>\n",
       "      <td>0.1089</td>\n",
       "      <td>1545003901</td>\n",
       "      <td>0.76</td>\n",
       "      <td>11.07</td>\n",
       "    </tr>\n",
       "    <tr>\n",
       "      <th>3</th>\n",
       "      <td>42.11</td>\n",
       "      <td>Fenway</td>\n",
       "      <td>1.00</td>\n",
       "      <td>1012.13</td>\n",
       "      <td>0.0969</td>\n",
       "      <td>1545003901</td>\n",
       "      <td>0.77</td>\n",
       "      <td>11.09</td>\n",
       "    </tr>\n",
       "    <tr>\n",
       "      <th>4</th>\n",
       "      <td>43.13</td>\n",
       "      <td>Financial District</td>\n",
       "      <td>1.00</td>\n",
       "      <td>1012.14</td>\n",
       "      <td>0.1786</td>\n",
       "      <td>1545003901</td>\n",
       "      <td>0.75</td>\n",
       "      <td>11.49</td>\n",
       "    </tr>\n",
       "    <tr>\n",
       "      <th>...</th>\n",
       "      <td>...</td>\n",
       "      <td>...</td>\n",
       "      <td>...</td>\n",
       "      <td>...</td>\n",
       "      <td>...</td>\n",
       "      <td>...</td>\n",
       "      <td>...</td>\n",
       "      <td>...</td>\n",
       "    </tr>\n",
       "    <tr>\n",
       "      <th>6271</th>\n",
       "      <td>44.72</td>\n",
       "      <td>North Station</td>\n",
       "      <td>0.89</td>\n",
       "      <td>1000.69</td>\n",
       "      <td>NaN</td>\n",
       "      <td>1543819974</td>\n",
       "      <td>0.96</td>\n",
       "      <td>1.52</td>\n",
       "    </tr>\n",
       "    <tr>\n",
       "      <th>6272</th>\n",
       "      <td>44.85</td>\n",
       "      <td>Northeastern University</td>\n",
       "      <td>0.88</td>\n",
       "      <td>1000.71</td>\n",
       "      <td>NaN</td>\n",
       "      <td>1543819974</td>\n",
       "      <td>0.96</td>\n",
       "      <td>1.54</td>\n",
       "    </tr>\n",
       "    <tr>\n",
       "      <th>6273</th>\n",
       "      <td>44.82</td>\n",
       "      <td>South Station</td>\n",
       "      <td>0.89</td>\n",
       "      <td>1000.70</td>\n",
       "      <td>NaN</td>\n",
       "      <td>1543819974</td>\n",
       "      <td>0.96</td>\n",
       "      <td>1.54</td>\n",
       "    </tr>\n",
       "    <tr>\n",
       "      <th>6274</th>\n",
       "      <td>44.78</td>\n",
       "      <td>Theatre District</td>\n",
       "      <td>0.89</td>\n",
       "      <td>1000.70</td>\n",
       "      <td>NaN</td>\n",
       "      <td>1543819974</td>\n",
       "      <td>0.96</td>\n",
       "      <td>1.54</td>\n",
       "    </tr>\n",
       "    <tr>\n",
       "      <th>6275</th>\n",
       "      <td>44.69</td>\n",
       "      <td>West End</td>\n",
       "      <td>0.89</td>\n",
       "      <td>1000.70</td>\n",
       "      <td>NaN</td>\n",
       "      <td>1543819974</td>\n",
       "      <td>0.96</td>\n",
       "      <td>1.52</td>\n",
       "    </tr>\n",
       "  </tbody>\n",
       "</table>\n",
       "<p>6276 rows × 8 columns</p>\n",
       "</div>"
      ],
      "text/plain": [
       "       temp                 location  clouds  pressure    rain  time_stamp  \\\n",
       "0     42.42                 Back Bay    1.00   1012.14  0.1228  1545003901   \n",
       "1     42.43              Beacon Hill    1.00   1012.15  0.1846  1545003901   \n",
       "2     42.50        Boston University    1.00   1012.15  0.1089  1545003901   \n",
       "3     42.11                   Fenway    1.00   1012.13  0.0969  1545003901   \n",
       "4     43.13       Financial District    1.00   1012.14  0.1786  1545003901   \n",
       "...     ...                      ...     ...       ...     ...         ...   \n",
       "6271  44.72            North Station    0.89   1000.69     NaN  1543819974   \n",
       "6272  44.85  Northeastern University    0.88   1000.71     NaN  1543819974   \n",
       "6273  44.82            South Station    0.89   1000.70     NaN  1543819974   \n",
       "6274  44.78         Theatre District    0.89   1000.70     NaN  1543819974   \n",
       "6275  44.69                 West End    0.89   1000.70     NaN  1543819974   \n",
       "\n",
       "      humidity   wind  \n",
       "0         0.77  11.25  \n",
       "1         0.76  11.32  \n",
       "2         0.76  11.07  \n",
       "3         0.77  11.09  \n",
       "4         0.75  11.49  \n",
       "...        ...    ...  \n",
       "6271      0.96   1.52  \n",
       "6272      0.96   1.54  \n",
       "6273      0.96   1.54  \n",
       "6274      0.96   1.54  \n",
       "6275      0.96   1.52  \n",
       "\n",
       "[6276 rows x 8 columns]"
      ]
     },
     "execution_count": 6,
     "metadata": {},
     "output_type": "execute_result"
    }
   ],
   "source": [
    "weather_data"
   ]
  },
  {
   "cell_type": "code",
   "execution_count": 7,
   "metadata": {},
   "outputs": [],
   "source": [
    "import datetime\n",
    "cab_data['datetime']= pd.to_datetime(cab_data['time_stamp'])\n",
    "cab_data\n",
    "weather_data['date_time'] = pd.to_datetime(weather_data['time_stamp'])"
   ]
  },
  {
   "cell_type": "code",
   "execution_count": 8,
   "metadata": {},
   "outputs": [
    {
     "data": {
      "text/plain": [
       "Index(['distance', 'cab_type', 'time_stamp', 'destination', 'source', 'price',\n",
       "       'surge_multiplier', 'id', 'product_id', 'name', 'datetime'],\n",
       "      dtype='object')"
      ]
     },
     "execution_count": 8,
     "metadata": {},
     "output_type": "execute_result"
    }
   ],
   "source": [
    "cab_data.columns"
   ]
  },
  {
   "cell_type": "code",
   "execution_count": 9,
   "metadata": {},
   "outputs": [
    {
     "data": {
      "text/plain": [
       "Index(['temp', 'location', 'clouds', 'pressure', 'rain', 'time_stamp',\n",
       "       'humidity', 'wind', 'date_time'],\n",
       "      dtype='object')"
      ]
     },
     "execution_count": 9,
     "metadata": {},
     "output_type": "execute_result"
    }
   ],
   "source": [
    "weather_data.columns"
   ]
  },
  {
   "cell_type": "code",
   "execution_count": 10,
   "metadata": {},
   "outputs": [
    {
     "data": {
      "text/plain": [
       "(693071, 11)"
      ]
     },
     "execution_count": 10,
     "metadata": {},
     "output_type": "execute_result"
    }
   ],
   "source": [
    "cab_data.shape "
   ]
  },
  {
   "cell_type": "code",
   "execution_count": 11,
   "metadata": {},
   "outputs": [
    {
     "data": {
      "text/plain": [
       "(6276, 9)"
      ]
     },
     "execution_count": 11,
     "metadata": {},
     "output_type": "execute_result"
    }
   ],
   "source": [
    "weather_data.shape"
   ]
  },
  {
   "cell_type": "code",
   "execution_count": 12,
   "metadata": {},
   "outputs": [
    {
     "data": {
      "text/html": [
       "<div>\n",
       "<style scoped>\n",
       "    .dataframe tbody tr th:only-of-type {\n",
       "        vertical-align: middle;\n",
       "    }\n",
       "\n",
       "    .dataframe tbody tr th {\n",
       "        vertical-align: top;\n",
       "    }\n",
       "\n",
       "    .dataframe thead th {\n",
       "        text-align: right;\n",
       "    }\n",
       "</style>\n",
       "<table border=\"1\" class=\"dataframe\">\n",
       "  <thead>\n",
       "    <tr style=\"text-align: right;\">\n",
       "      <th></th>\n",
       "      <th>distance</th>\n",
       "      <th>time_stamp</th>\n",
       "      <th>price</th>\n",
       "      <th>surge_multiplier</th>\n",
       "    </tr>\n",
       "  </thead>\n",
       "  <tbody>\n",
       "    <tr>\n",
       "      <th>count</th>\n",
       "      <td>693071.000000</td>\n",
       "      <td>6.930710e+05</td>\n",
       "      <td>637976.000000</td>\n",
       "      <td>693071.000000</td>\n",
       "    </tr>\n",
       "    <tr>\n",
       "      <th>mean</th>\n",
       "      <td>2.189430</td>\n",
       "      <td>1.544046e+12</td>\n",
       "      <td>16.545125</td>\n",
       "      <td>1.013870</td>\n",
       "    </tr>\n",
       "    <tr>\n",
       "      <th>std</th>\n",
       "      <td>1.138937</td>\n",
       "      <td>6.891925e+08</td>\n",
       "      <td>9.324359</td>\n",
       "      <td>0.091641</td>\n",
       "    </tr>\n",
       "    <tr>\n",
       "      <th>min</th>\n",
       "      <td>0.020000</td>\n",
       "      <td>1.543204e+12</td>\n",
       "      <td>2.500000</td>\n",
       "      <td>1.000000</td>\n",
       "    </tr>\n",
       "    <tr>\n",
       "      <th>25%</th>\n",
       "      <td>1.280000</td>\n",
       "      <td>1.543444e+12</td>\n",
       "      <td>9.000000</td>\n",
       "      <td>1.000000</td>\n",
       "    </tr>\n",
       "    <tr>\n",
       "      <th>50%</th>\n",
       "      <td>2.160000</td>\n",
       "      <td>1.543737e+12</td>\n",
       "      <td>13.500000</td>\n",
       "      <td>1.000000</td>\n",
       "    </tr>\n",
       "    <tr>\n",
       "      <th>75%</th>\n",
       "      <td>2.920000</td>\n",
       "      <td>1.544828e+12</td>\n",
       "      <td>22.500000</td>\n",
       "      <td>1.000000</td>\n",
       "    </tr>\n",
       "    <tr>\n",
       "      <th>max</th>\n",
       "      <td>7.860000</td>\n",
       "      <td>1.545161e+12</td>\n",
       "      <td>97.500000</td>\n",
       "      <td>3.000000</td>\n",
       "    </tr>\n",
       "  </tbody>\n",
       "</table>\n",
       "</div>"
      ],
      "text/plain": [
       "            distance    time_stamp          price  surge_multiplier\n",
       "count  693071.000000  6.930710e+05  637976.000000     693071.000000\n",
       "mean        2.189430  1.544046e+12      16.545125          1.013870\n",
       "std         1.138937  6.891925e+08       9.324359          0.091641\n",
       "min         0.020000  1.543204e+12       2.500000          1.000000\n",
       "25%         1.280000  1.543444e+12       9.000000          1.000000\n",
       "50%         2.160000  1.543737e+12      13.500000          1.000000\n",
       "75%         2.920000  1.544828e+12      22.500000          1.000000\n",
       "max         7.860000  1.545161e+12      97.500000          3.000000"
      ]
     },
     "execution_count": 12,
     "metadata": {},
     "output_type": "execute_result"
    }
   ],
   "source": [
    "cab_data.describe()"
   ]
  },
  {
   "cell_type": "code",
   "execution_count": 13,
   "metadata": {},
   "outputs": [
    {
     "data": {
      "text/html": [
       "<div>\n",
       "<style scoped>\n",
       "    .dataframe tbody tr th:only-of-type {\n",
       "        vertical-align: middle;\n",
       "    }\n",
       "\n",
       "    .dataframe tbody tr th {\n",
       "        vertical-align: top;\n",
       "    }\n",
       "\n",
       "    .dataframe thead th {\n",
       "        text-align: right;\n",
       "    }\n",
       "</style>\n",
       "<table border=\"1\" class=\"dataframe\">\n",
       "  <thead>\n",
       "    <tr style=\"text-align: right;\">\n",
       "      <th></th>\n",
       "      <th>temp</th>\n",
       "      <th>clouds</th>\n",
       "      <th>pressure</th>\n",
       "      <th>rain</th>\n",
       "      <th>time_stamp</th>\n",
       "      <th>humidity</th>\n",
       "      <th>wind</th>\n",
       "    </tr>\n",
       "  </thead>\n",
       "  <tbody>\n",
       "    <tr>\n",
       "      <th>count</th>\n",
       "      <td>6276.000000</td>\n",
       "      <td>6276.000000</td>\n",
       "      <td>6276.000000</td>\n",
       "      <td>894.000000</td>\n",
       "      <td>6.276000e+03</td>\n",
       "      <td>6276.000000</td>\n",
       "      <td>6276.000000</td>\n",
       "    </tr>\n",
       "    <tr>\n",
       "      <th>mean</th>\n",
       "      <td>39.090475</td>\n",
       "      <td>0.677777</td>\n",
       "      <td>1008.445209</td>\n",
       "      <td>0.057652</td>\n",
       "      <td>1.543857e+09</td>\n",
       "      <td>0.763985</td>\n",
       "      <td>6.802812</td>\n",
       "    </tr>\n",
       "    <tr>\n",
       "      <th>std</th>\n",
       "      <td>6.022055</td>\n",
       "      <td>0.314284</td>\n",
       "      <td>12.870775</td>\n",
       "      <td>0.100758</td>\n",
       "      <td>6.659340e+05</td>\n",
       "      <td>0.127340</td>\n",
       "      <td>3.633466</td>\n",
       "    </tr>\n",
       "    <tr>\n",
       "      <th>min</th>\n",
       "      <td>19.620000</td>\n",
       "      <td>0.000000</td>\n",
       "      <td>988.250000</td>\n",
       "      <td>0.000200</td>\n",
       "      <td>1.543204e+09</td>\n",
       "      <td>0.450000</td>\n",
       "      <td>0.290000</td>\n",
       "    </tr>\n",
       "    <tr>\n",
       "      <th>25%</th>\n",
       "      <td>36.077500</td>\n",
       "      <td>0.440000</td>\n",
       "      <td>997.747500</td>\n",
       "      <td>0.004900</td>\n",
       "      <td>1.543387e+09</td>\n",
       "      <td>0.670000</td>\n",
       "      <td>3.517500</td>\n",
       "    </tr>\n",
       "    <tr>\n",
       "      <th>50%</th>\n",
       "      <td>40.130000</td>\n",
       "      <td>0.780000</td>\n",
       "      <td>1007.660000</td>\n",
       "      <td>0.014850</td>\n",
       "      <td>1.543514e+09</td>\n",
       "      <td>0.760000</td>\n",
       "      <td>6.570000</td>\n",
       "    </tr>\n",
       "    <tr>\n",
       "      <th>75%</th>\n",
       "      <td>42.832500</td>\n",
       "      <td>0.970000</td>\n",
       "      <td>1018.480000</td>\n",
       "      <td>0.060925</td>\n",
       "      <td>1.544691e+09</td>\n",
       "      <td>0.890000</td>\n",
       "      <td>9.920000</td>\n",
       "    </tr>\n",
       "    <tr>\n",
       "      <th>max</th>\n",
       "      <td>55.410000</td>\n",
       "      <td>1.000000</td>\n",
       "      <td>1035.120000</td>\n",
       "      <td>0.780700</td>\n",
       "      <td>1.545159e+09</td>\n",
       "      <td>0.990000</td>\n",
       "      <td>18.180000</td>\n",
       "    </tr>\n",
       "  </tbody>\n",
       "</table>\n",
       "</div>"
      ],
      "text/plain": [
       "              temp       clouds     pressure        rain    time_stamp  \\\n",
       "count  6276.000000  6276.000000  6276.000000  894.000000  6.276000e+03   \n",
       "mean     39.090475     0.677777  1008.445209    0.057652  1.543857e+09   \n",
       "std       6.022055     0.314284    12.870775    0.100758  6.659340e+05   \n",
       "min      19.620000     0.000000   988.250000    0.000200  1.543204e+09   \n",
       "25%      36.077500     0.440000   997.747500    0.004900  1.543387e+09   \n",
       "50%      40.130000     0.780000  1007.660000    0.014850  1.543514e+09   \n",
       "75%      42.832500     0.970000  1018.480000    0.060925  1.544691e+09   \n",
       "max      55.410000     1.000000  1035.120000    0.780700  1.545159e+09   \n",
       "\n",
       "          humidity         wind  \n",
       "count  6276.000000  6276.000000  \n",
       "mean      0.763985     6.802812  \n",
       "std       0.127340     3.633466  \n",
       "min       0.450000     0.290000  \n",
       "25%       0.670000     3.517500  \n",
       "50%       0.760000     6.570000  \n",
       "75%       0.890000     9.920000  \n",
       "max       0.990000    18.180000  "
      ]
     },
     "execution_count": 13,
     "metadata": {},
     "output_type": "execute_result"
    }
   ],
   "source": [
    "weather_data.describe()"
   ]
  },
  {
   "cell_type": "markdown",
   "metadata": {},
   "source": [
    "## Exploration and Visualization\n",
    "Through our exploration we are going to visualize and analyse:"
   ]
  },
  {
   "cell_type": "code",
   "execution_count": 14,
   "metadata": {},
   "outputs": [],
   "source": [
    "a=pd.concat([cab_data,weather_data])    "
   ]
  },
  {
   "cell_type": "code",
   "execution_count": 15,
   "metadata": {},
   "outputs": [],
   "source": [
    "a['day']=a.date_time.dt.day\n",
    "a['hour']=a.date_time.dt.hour"
   ]
  },
  {
   "cell_type": "code",
   "execution_count": 16,
   "metadata": {},
   "outputs": [],
   "source": [
    "a.fillna(0,inplace=True)"
   ]
  },
  {
   "cell_type": "code",
   "execution_count": 17,
   "metadata": {},
   "outputs": [
    {
     "data": {
      "text/plain": [
       "Index(['distance', 'cab_type', 'time_stamp', 'destination', 'source', 'price',\n",
       "       'surge_multiplier', 'id', 'product_id', 'name', 'datetime', 'temp',\n",
       "       'location', 'clouds', 'pressure', 'rain', 'humidity', 'wind',\n",
       "       'date_time', 'day', 'hour'],\n",
       "      dtype='object')"
      ]
     },
     "execution_count": 17,
     "metadata": {},
     "output_type": "execute_result"
    }
   ],
   "source": [
    "a.columns"
   ]
  },
  {
   "cell_type": "markdown",
   "metadata": {},
   "source": [
    "## Checking how many data we have for Uber & Lyft "
   ]
  },
  {
   "cell_type": "code",
   "execution_count": 18,
   "metadata": {},
   "outputs": [
    {
     "data": {
      "text/html": [
       "<div>\n",
       "<style scoped>\n",
       "    .dataframe tbody tr th:only-of-type {\n",
       "        vertical-align: middle;\n",
       "    }\n",
       "\n",
       "    .dataframe tbody tr th {\n",
       "        vertical-align: top;\n",
       "    }\n",
       "\n",
       "    .dataframe thead th {\n",
       "        text-align: right;\n",
       "    }\n",
       "</style>\n",
       "<table border=\"1\" class=\"dataframe\">\n",
       "  <thead>\n",
       "    <tr style=\"text-align: right;\">\n",
       "      <th></th>\n",
       "      <th>distance</th>\n",
       "      <th>time_stamp</th>\n",
       "      <th>destination</th>\n",
       "      <th>source</th>\n",
       "      <th>price</th>\n",
       "      <th>surge_multiplier</th>\n",
       "      <th>id</th>\n",
       "      <th>product_id</th>\n",
       "      <th>name</th>\n",
       "      <th>datetime</th>\n",
       "      <th>temp</th>\n",
       "      <th>location</th>\n",
       "      <th>clouds</th>\n",
       "      <th>pressure</th>\n",
       "      <th>rain</th>\n",
       "      <th>humidity</th>\n",
       "      <th>wind</th>\n",
       "      <th>date_time</th>\n",
       "      <th>day</th>\n",
       "      <th>hour</th>\n",
       "    </tr>\n",
       "    <tr>\n",
       "      <th>cab_type</th>\n",
       "      <th></th>\n",
       "      <th></th>\n",
       "      <th></th>\n",
       "      <th></th>\n",
       "      <th></th>\n",
       "      <th></th>\n",
       "      <th></th>\n",
       "      <th></th>\n",
       "      <th></th>\n",
       "      <th></th>\n",
       "      <th></th>\n",
       "      <th></th>\n",
       "      <th></th>\n",
       "      <th></th>\n",
       "      <th></th>\n",
       "      <th></th>\n",
       "      <th></th>\n",
       "      <th></th>\n",
       "      <th></th>\n",
       "      <th></th>\n",
       "    </tr>\n",
       "  </thead>\n",
       "  <tbody>\n",
       "    <tr>\n",
       "      <th>0</th>\n",
       "      <td>6276</td>\n",
       "      <td>6276</td>\n",
       "      <td>6276</td>\n",
       "      <td>6276</td>\n",
       "      <td>6276</td>\n",
       "      <td>6276</td>\n",
       "      <td>6276</td>\n",
       "      <td>6276</td>\n",
       "      <td>6276</td>\n",
       "      <td>6276</td>\n",
       "      <td>6276</td>\n",
       "      <td>6276</td>\n",
       "      <td>6276</td>\n",
       "      <td>6276</td>\n",
       "      <td>6276</td>\n",
       "      <td>6276</td>\n",
       "      <td>6276</td>\n",
       "      <td>6276</td>\n",
       "      <td>6276</td>\n",
       "      <td>6276</td>\n",
       "    </tr>\n",
       "    <tr>\n",
       "      <th>Lyft</th>\n",
       "      <td>307408</td>\n",
       "      <td>307408</td>\n",
       "      <td>307408</td>\n",
       "      <td>307408</td>\n",
       "      <td>307408</td>\n",
       "      <td>307408</td>\n",
       "      <td>307408</td>\n",
       "      <td>307408</td>\n",
       "      <td>307408</td>\n",
       "      <td>307408</td>\n",
       "      <td>307408</td>\n",
       "      <td>307408</td>\n",
       "      <td>307408</td>\n",
       "      <td>307408</td>\n",
       "      <td>307408</td>\n",
       "      <td>307408</td>\n",
       "      <td>307408</td>\n",
       "      <td>307408</td>\n",
       "      <td>307408</td>\n",
       "      <td>307408</td>\n",
       "    </tr>\n",
       "    <tr>\n",
       "      <th>Uber</th>\n",
       "      <td>385663</td>\n",
       "      <td>385663</td>\n",
       "      <td>385663</td>\n",
       "      <td>385663</td>\n",
       "      <td>385663</td>\n",
       "      <td>385663</td>\n",
       "      <td>385663</td>\n",
       "      <td>385663</td>\n",
       "      <td>385663</td>\n",
       "      <td>385663</td>\n",
       "      <td>385663</td>\n",
       "      <td>385663</td>\n",
       "      <td>385663</td>\n",
       "      <td>385663</td>\n",
       "      <td>385663</td>\n",
       "      <td>385663</td>\n",
       "      <td>385663</td>\n",
       "      <td>385663</td>\n",
       "      <td>385663</td>\n",
       "      <td>385663</td>\n",
       "    </tr>\n",
       "  </tbody>\n",
       "</table>\n",
       "</div>"
      ],
      "text/plain": [
       "          distance  time_stamp  destination  source   price  surge_multiplier  \\\n",
       "cab_type                                                                        \n",
       "0             6276        6276         6276    6276    6276              6276   \n",
       "Lyft        307408      307408       307408  307408  307408            307408   \n",
       "Uber        385663      385663       385663  385663  385663            385663   \n",
       "\n",
       "              id  product_id    name  datetime    temp  location  clouds  \\\n",
       "cab_type                                                                   \n",
       "0           6276        6276    6276      6276    6276      6276    6276   \n",
       "Lyft      307408      307408  307408    307408  307408    307408  307408   \n",
       "Uber      385663      385663  385663    385663  385663    385663  385663   \n",
       "\n",
       "          pressure    rain  humidity    wind  date_time     day    hour  \n",
       "cab_type                                                                 \n",
       "0             6276    6276      6276    6276       6276    6276    6276  \n",
       "Lyft        307408  307408    307408  307408     307408  307408  307408  \n",
       "Uber        385663  385663    385663  385663     385663  385663  385663  "
      ]
     },
     "execution_count": 18,
     "metadata": {},
     "output_type": "execute_result"
    }
   ],
   "source": [
    "a.groupby('cab_type').count()"
   ]
  },
  {
   "cell_type": "markdown",
   "metadata": {},
   "source": [
    "## Data visulization for cab type i.e. Uber & Lyft."
   ]
  },
  {
   "cell_type": "code",
   "execution_count": 19,
   "metadata": {},
   "outputs": [
    {
     "data": {
      "text/plain": [
       "<matplotlib.axes._subplots.AxesSubplot at 0x7f57b3e02820>"
      ]
     },
     "execution_count": 19,
     "metadata": {},
     "output_type": "execute_result"
    },
    {
     "data": {
      "image/png": "[encoded data removed]",
      "text/plain": [
       "<Figure size 432x288 with 1 Axes>"
      ]
     },
     "metadata": {
      "needs_background": "light"
     },
     "output_type": "display_data"
    }
   ],
   "source": [
    "a.groupby('cab_type').count().plot.bar()"
   ]
  },
  {
   "cell_type": "markdown",
   "metadata": {},
   "source": [
    "## Bar plot for fluctuation of the price"
   ]
  },
  {
   "cell_type": "code",
   "execution_count": 20,
   "metadata": {},
   "outputs": [
    {
     "data": {
      "text/plain": [
       "<matplotlib.axes._subplots.AxesSubplot at 0x7f57b6806910>"
      ]
     },
     "execution_count": 20,
     "metadata": {},
     "output_type": "execute_result"
    },
    {
     "data": {
      "image/png": "[encoded data removed]",
      "text/plain": [
       "<Figure size 7200x3600 with 1 Axes>"
      ]
     },
     "metadata": {
      "needs_background": "light"
     },
     "output_type": "display_data"
    }
   ],
   "source": [
    "a['price'].value_counts().plot(kind='bar',figsize=(100,50),color='red')"
   ]
  },
  {
   "cell_type": "markdown",
   "metadata": {},
   "source": [
    "## Peak hour for the cab?"
   ]
  },
  {
   "cell_type": "code",
   "execution_count": 21,
   "metadata": {},
   "outputs": [
    {
     "data": {
      "text/plain": [
       "<matplotlib.axes._subplots.AxesSubplot at 0x7f57b684ac70>"
      ]
     },
     "execution_count": 21,
     "metadata": {},
     "output_type": "execute_result"
    },
    {
     "data": {
      "image/png": "[encoded data removed]",
      "text/plain": [
       "<Figure size 720x360 with 1 Axes>"
      ]
     },
     "metadata": {
      "needs_background": "light"
     },
     "output_type": "display_data"
    }
   ],
   "source": [
    "a['hour'].value_counts().plot(kind='bar',figsize=(10,5),color='green')"
   ]
  },
  {
   "cell_type": "markdown",
   "metadata": {},
   "source": [
    "## How price & hour varies with each other?"
   ]
  },
  {
   "cell_type": "code",
   "execution_count": 22,
   "metadata": {},
   "outputs": [
    {
     "data": {
      "image/png": "[encoded data removed]",
      "text/plain": [
       "<Figure size 432x288 with 1 Axes>"
      ]
     },
     "metadata": {
      "needs_background": "light"
     },
     "output_type": "display_data"
    }
   ],
   "source": [
    "import matplotlib.pyplot as plt\n",
    "x=a['hour']\n",
    "y=a['price']\n",
    "plt.plot(x,y)\n",
    "plt.show()"
   ]
  },
  {
   "cell_type": "markdown",
   "metadata": {},
   "source": [
    "## Connection between rain and price"
   ]
  },
  {
   "cell_type": "code",
   "execution_count": 23,
   "metadata": {},
   "outputs": [
    {
     "data": {
      "image/png": "[encoded data removed]",
      "text/plain": [
       "<Figure size 432x288 with 1 Axes>"
      ]
     },
     "metadata": {
      "needs_background": "light"
     },
     "output_type": "display_data"
    }
   ],
   "source": [
    "x=a['rain']\n",
    "y=a['price']\n",
    "plt.plot(x,y)\n",
    "plt.show()"
   ]
  },
  {
   "cell_type": "code",
   "execution_count": 24,
   "metadata": {},
   "outputs": [
    {
     "data": {
      "text/plain": [
       "Index(['distance', 'cab_type', 'time_stamp', 'destination', 'source', 'price',\n",
       "       'surge_multiplier', 'id', 'product_id', 'name', 'datetime', 'temp',\n",
       "       'location', 'clouds', 'pressure', 'rain', 'humidity', 'wind',\n",
       "       'date_time', 'day', 'hour'],\n",
       "      dtype='object')"
      ]
     },
     "execution_count": 24,
     "metadata": {},
     "output_type": "execute_result"
    }
   ],
   "source": [
    "a.columns"
   ]
  },
  {
   "cell_type": "code",
   "execution_count": 25,
   "metadata": {},
   "outputs": [],
   "source": [
    "x1=a[['distance', 'temp','clouds', 'pressure', 'humidity','wind','rain','day','hour','surge_multiplier','clouds']]\n",
    "y1=a['price'] #labelled data"
   ]
  },
  {
   "cell_type": "code",
   "execution_count": 26,
   "metadata": {},
   "outputs": [],
   "source": [
    "# Using Skicit-learn to split data into training and testing sets\n",
    "from sklearn.model_selection import train_test_split\n",
    "# Split the data into training and testing sets\n",
    "x_train, y_train, x_test, y_test = train_test_split(x1, y1, test_size = 0.25, random_state = 42)"
   ]
  },
  {
   "cell_type": "code",
   "execution_count": 27,
   "metadata": {},
   "outputs": [
    {
     "data": {
      "text/plain": [
       "LinearRegression()"
      ]
     },
     "execution_count": 27,
     "metadata": {},
     "output_type": "execute_result"
    }
   ],
   "source": [
    "linear=LinearRegression()\n",
    "linear.fit(x_train,x_test)"
   ]
  },
  {
   "cell_type": "code",
   "execution_count": 28,
   "metadata": {},
   "outputs": [],
   "source": [
    "predictions=linear.predict(y_train)"
   ]
  },
  {
   "cell_type": "markdown",
   "metadata": {},
   "source": [
    "## Actual & predicted value"
   ]
  },
  {
   "cell_type": "code",
   "execution_count": 29,
   "metadata": {},
   "outputs": [
    {
     "data": {
      "text/html": [
       "<div>\n",
       "<style scoped>\n",
       "    .dataframe tbody tr th:only-of-type {\n",
       "        vertical-align: middle;\n",
       "    }\n",
       "\n",
       "    .dataframe tbody tr th {\n",
       "        vertical-align: top;\n",
       "    }\n",
       "\n",
       "    .dataframe thead th {\n",
       "        text-align: right;\n",
       "    }\n",
       "</style>\n",
       "<table border=\"1\" class=\"dataframe\">\n",
       "  <thead>\n",
       "    <tr style=\"text-align: right;\">\n",
       "      <th></th>\n",
       "      <th>Actual</th>\n",
       "      <th>Predicted</th>\n",
       "    </tr>\n",
       "  </thead>\n",
       "  <tbody>\n",
       "    <tr>\n",
       "      <th>81607</th>\n",
       "      <td>42.5</td>\n",
       "      <td>32.547916</td>\n",
       "    </tr>\n",
       "    <tr>\n",
       "      <th>354</th>\n",
       "      <td>0.0</td>\n",
       "      <td>14.755608</td>\n",
       "    </tr>\n",
       "    <tr>\n",
       "      <th>471801</th>\n",
       "      <td>32.5</td>\n",
       "      <td>16.816969</td>\n",
       "    </tr>\n",
       "    <tr>\n",
       "      <th>407645</th>\n",
       "      <td>27.5</td>\n",
       "      <td>10.480192</td>\n",
       "    </tr>\n",
       "    <tr>\n",
       "      <th>474760</th>\n",
       "      <td>27.5</td>\n",
       "      <td>10.556539</td>\n",
       "    </tr>\n",
       "    <tr>\n",
       "      <th>...</th>\n",
       "      <td>...</td>\n",
       "      <td>...</td>\n",
       "    </tr>\n",
       "    <tr>\n",
       "      <th>538489</th>\n",
       "      <td>7.5</td>\n",
       "      <td>10.709232</td>\n",
       "    </tr>\n",
       "    <tr>\n",
       "      <th>579511</th>\n",
       "      <td>13.5</td>\n",
       "      <td>15.519075</td>\n",
       "    </tr>\n",
       "    <tr>\n",
       "      <th>5421</th>\n",
       "      <td>9.0</td>\n",
       "      <td>11.828984</td>\n",
       "    </tr>\n",
       "    <tr>\n",
       "      <th>279982</th>\n",
       "      <td>8.0</td>\n",
       "      <td>11.854433</td>\n",
       "    </tr>\n",
       "    <tr>\n",
       "      <th>236315</th>\n",
       "      <td>27.5</td>\n",
       "      <td>13.228673</td>\n",
       "    </tr>\n",
       "  </tbody>\n",
       "</table>\n",
       "<p>174837 rows × 2 columns</p>\n",
       "</div>"
      ],
      "text/plain": [
       "        Actual  Predicted\n",
       "81607     42.5  32.547916\n",
       "354        0.0  14.755608\n",
       "471801    32.5  16.816969\n",
       "407645    27.5  10.480192\n",
       "474760    27.5  10.556539\n",
       "...        ...        ...\n",
       "538489     7.5  10.709232\n",
       "579511    13.5  15.519075\n",
       "5421       9.0  11.828984\n",
       "279982     8.0  11.854433\n",
       "236315    27.5  13.228673\n",
       "\n",
       "[174837 rows x 2 columns]"
      ]
     },
     "execution_count": 29,
     "metadata": {},
     "output_type": "execute_result"
    }
   ],
   "source": [
    "df = pd.DataFrame({'Actual': y_test, 'Predicted': predictions})\n",
    "df"
   ]
  },
  {
   "cell_type": "markdown",
   "metadata": {},
   "source": [
    "## Bar graph between actual and predicted"
   ]
  },
  {
   "cell_type": "code",
   "execution_count": 30,
   "metadata": {},
   "outputs": [
    {
     "data": {
      "image/png": "[encoded data removed]",
      "text/plain": [
       "<Figure size 1872x720 with 1 Axes>"
      ]
     },
     "metadata": {
      "needs_background": "light"
     },
     "output_type": "display_data"
    }
   ],
   "source": [
    "df1 = df.head(25)\n",
    "df1.plot(kind='bar',figsize=(26,10))\n",
    "plt.grid(which='major', linestyle='-', linewidth='0.5', color='green')\n",
    "plt.grid(which='minor', linestyle=':', linewidth='0.5', color='black')\n",
    "plt.show()"
   ]
  }
 ],
 "metadata": {
  "kernelspec": {
   "display_name": "Python 3",
   "language": "python",
   "name": "python3"
  },
  "language_info": {
   "codemirror_mode": {
    "name": "ipython",
    "version": 3
   },
   "file_extension": ".py",
   "mimetype": "text/x-python",
   "name": "python",
   "nbconvert_exporter": "python",
   "pygments_lexer": "ipython3",
   "version": "3.8.10"
  }
 },
 "nbformat": 4,
 "nbformat_minor": 4
}
